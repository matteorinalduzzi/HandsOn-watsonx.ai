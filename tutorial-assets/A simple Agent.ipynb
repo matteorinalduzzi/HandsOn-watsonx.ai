{
 "cells": [
  {
   "cell_type": "markdown",
   "metadata": {
    "id": "77968f2e-1a5e-4a62-96ec-12b3d24f3323"
   },
   "source": [
    "# Install libraries"
   ]
  },
  {
   "cell_type": "code",
   "execution_count": null,
   "metadata": {
    "id": "4286f3ba-9e4e-4879-8283-01e936b12c15",
    "scrolled": true
   },
   "outputs": [],
   "source": [
    "#installations\n",
    "%pip install python-dotenv\n",
    "%pip install langchain\n",
    "%pip install langchain_ibm\n",
    "%pip install langchain_core\n",
    "%pip install langgraph\n",
    "%pip install nasapy"
   ]
  },
  {
   "cell_type": "markdown",
   "metadata": {
    "id": "7b89e9e8-fe14-4d19-af88-e7b18d7ed4f4"
   },
   "source": [
    "# Imports"
   ]
  },
  {
   "cell_type": "code",
   "execution_count": null,
   "metadata": {
    "id": "3bb8f336-d1c6-40ba-b10a-c5ac1a609a7d"
   },
   "outputs": [],
   "source": [
    "#imports\n",
    "from nasapy import Nasa\n",
    "from langchain_ibm import ChatWatsonx\n",
    "from langchain_core.tools import tool\n",
    "from langchain_core.messages import AnyMessage, HumanMessage, ToolMessage\n",
    "from langgraph.graph import StateGraph, END\n",
    "from datetime import datetime, timedelta\n",
    "from operator import add\n",
    "from typing import Annotated\n",
    "from typing_extensions import TypedDict\n",
    "from IPython.display import Image, display"
   ]
  },
  {
   "cell_type": "markdown",
   "metadata": {
    "id": "4be07d59-fba2-4aa4-a453-d3fb6ed1529e"
   },
   "source": [
    "# Setup Credentials and Model Parameters "
   ]
  },
  {
   "cell_type": "code",
   "execution_count": null,
   "metadata": {
    "id": "2d6960f0-49c0-4281-a300-6615962c7279"
   },
   "outputs": [],
   "source": [
    "# credentials\n",
    "credentials = {\n",
    "    \"url\": \"WATSONX_URL\",\n",
    "    \"apikey\": \"WATSONX_API_KEY\",\n",
    "    \"project_id\": \"PRJ_ID\"\n",
    "}\n",
    "\n",
    "# params\n",
    "params = {\n",
    "    \"decoding_method\": \"greedy\",\n",
    "    \"temperature\": 0, \n",
    "    \"min_new_tokens\": 5,\n",
    "    \"max_new_tokens\": 250,\n",
    "    \"stop_sequences\":['\\n\\n']\n",
    "}\n",
    "\n",
    "# model\n",
    "llm = ChatWatsonx(\n",
    "    model_id =  \"mistralai/mistral-large\",\n",
    "\turl = credentials.get(\"url\"),\n",
    "\tapikey = credentials.get(\"apikey\"),\n",
    "\tproject_id =  credentials.get(\"project_id\"),\n",
    "\tparams = params\n",
    ")"
   ]
  },
  {
   "cell_type": "markdown",
   "metadata": {
    "id": "3b49e667-384e-4c77-bce6-edc1dd0e6685"
   },
   "source": [
    "# Setup NASA API Key\n",
    "Generate one on the [NASA website](https://api.nasa.gov)"
   ]
  },
  {
   "cell_type": "code",
   "execution_count": null,
   "metadata": {
    "id": "9eaf79fa-2e95-4a9e-930b-7ebc86b77527"
   },
   "outputs": [
    {
     "data": {
      "text/plain": [
       "{'date': '2025-01-19',\n",
       " 'explanation': \"What would it look like to land on Saturn's moon Titan? The European Space Agency's Huygens probe set down on the Solar System's cloudiest moon in 2005, and a time-lapse video of its descent images was created. Huygens separated from the robotic Cassini spacecraft soon after it achieved orbit around Saturn in late 2004 and began approaching Titan. For two hours after arriving, Huygens plummeted toward Titan's surface, recording at first only the shrouded moon's opaque atmosphere. The computerized truck-tire sized probe soon deployed a parachute to slow its descent, pierced the thick clouds, and began transmitting images of a strange surface far below never before seen in visible light. Landing in a dried sea and surviving for 90 minutes, Huygen's returned unique images of a strange plain of dark sandy soil strewn with smooth, bright, fist-sized rocks of ice.\",\n",
       " 'media_type': 'video',\n",
       " 'service_version': 'v1',\n",
       " 'title': 'Titan Touchdown: Huygens Descent Movie',\n",
       " 'url': 'https://www.youtube.com/embed/msiLWxDayuA?rel=0'}"
      ]
     },
     "execution_count": 4,
     "metadata": {},
     "output_type": "execute_result"
    }
   ],
   "source": [
    "# add your nasa api key\n",
    "n = Nasa(key=\"NASA_API_KEY\")\n",
    "n.picture_of_the_day(\"2025-01-19\")"
   ]
  },
  {
   "cell_type": "markdown",
   "metadata": {
    "id": "2b46e520-7ba4-453b-8193-845d2708e70c"
   },
   "source": [
    "# Define Tools for the Agent"
   ]
  },
  {
   "cell_type": "code",
   "execution_count": 5,
   "metadata": {
    "id": "f576a800-7d76-4252-9a25-c8e0897f2e6d"
   },
   "outputs": [],
   "source": [
    "# tools\n",
    "\n",
    "@tool\n",
    "def get_todays_date() -> str:\n",
    "    \"\"\"Get today's date in YYYY-MM-DD format.\n",
    "    \"\"\"\n",
    "    date = datetime.now().strftime(\"%Y-%m-%d\")\n",
    "    return date\n",
    "\n",
    "@tool(return_direct=True)\n",
    "def get_astronomy_image(date_of_picture: str) -> str:\n",
    "    \"\"\"Get NASA's Astronomy Picture of the Day on given date.\n",
    "    \n",
    "    Args:\n",
    "        date_of_picture: the date for the picture of the day.\n",
    "    \"\"\"\n",
    "    apod = n.picture_of_the_day(date_of_picture, hd=True)\n",
    "    return apod['url']\n",
    "\n",
    "tools = [get_todays_date, get_astronomy_image]\n",
    "tools_names = {t.name: t for t in tools}\n",
    "llm_with_tools = llm.bind_tools(tools)"
   ]
  },
  {
   "cell_type": "markdown",
   "metadata": {
    "id": "43d9b5dc-9746-4943-8b07-1f57ac30cae6"
   },
   "source": [
    "# Define the LangGraph agent"
   ]
  },
  {
   "cell_type": "code",
   "execution_count": 6,
   "metadata": {
    "id": "01b03fa6-3668-4bf6-9c9f-fae521260a97"
   },
   "outputs": [
    {
     "data": {
      "image/png": "[encoded data removed]",
      "text/plain": [
       "<IPython.core.display.Image object>"
      ]
     },
     "metadata": {},
     "output_type": "display_data"
    }
   ],
   "source": [
    "# state class\n",
    "class State(TypedDict):\n",
    "  messages: Annotated[list[AnyMessage], add]\n",
    "\n",
    "def execute_tools(state: State):\n",
    "    tool_calls = state['messages'][-1].tool_calls\n",
    "    results = []\n",
    "    for t in tool_calls:\n",
    "      if not t['name'] in tools_names:\n",
    "        result = \"Error: There's no such tool, please try again\"\n",
    "      else:\n",
    "        result = tools_names[t['name']].invoke(t['args'])\n",
    "        results.append(\n",
    "          ToolMessage(\n",
    "            tool_call_id=t['id'],\n",
    "            name=t['name'],\n",
    "            content=str(result)\n",
    "          )\n",
    "        )\n",
    "    return {'messages': results}\n",
    "\n",
    "def tool_exists(state: State):\n",
    "    result = state['messages'][-1]\n",
    "    return len(result.tool_calls) > 0\n",
    "    \n",
    "# func to add node\n",
    "def run_llm(state: State):\n",
    "    messages = state['messages']\n",
    "    message = llm_with_tools.invoke(messages)\n",
    "    return {'messages': [message]}\n",
    "\n",
    "# create the agent graph\n",
    "graph_builder=StateGraph(State)\n",
    "graph_builder.add_node(\"llm\", run_llm)\n",
    "graph_builder.add_node(\"tools\", execute_tools)\n",
    "graph_builder.add_conditional_edges(\n",
    "    \"llm\",\n",
    "     tool_exists,\n",
    "    {True: \"tools\", False: END}\n",
    "    )\n",
    "\n",
    "graph_builder.add_edge(\"tools\", \"llm\")\n",
    "\n",
    "graph_builder.set_entry_point(\"llm\")\n",
    "\n",
    "graph=graph_builder.compile()\n",
    "\n",
    "# print the graph\n",
    "display(Image(graph.get_graph().draw_mermaid_png()))"
   ]
  },
  {
   "cell_type": "code",
   "execution_count": 7,
   "metadata": {
    "id": "0440d723-babb-4a97-9460-f75e85fb8422"
   },
   "outputs": [
    {
     "name": "stdout",
     "output_type": "stream",
     "text": [
      "{'messages': [HumanMessage(content='Tell me a joke about mathematics', additional_kwargs={}, response_metadata={}), AIMessage(content=' What does the zero say to the eight? Nice belt.', additional_kwargs={}, response_metadata={'token_usage': {'completion_tokens': 13, 'prompt_tokens': 167, 'total_tokens': 180}, 'model_name': 'mistralai/mistral-large', 'system_fingerprint': '', 'finish_reason': 'stop'}, id='chatcmpl-14e1bdacf9f495eccb577ed84918ae59', usage_metadata={'input_tokens': 167, 'output_tokens': 13, 'total_tokens': 180})]}\n"
     ]
    }
   ],
   "source": [
    "# Test the graph\n",
    "messages = [HumanMessage(content=\"Tell me a joke about mathematics\")]\n",
    "result = graph.invoke({\"messages\": messages})\n",
    "print(result)"
   ]
  },
  {
   "cell_type": "markdown",
   "metadata": {
    "id": "80ecdeaf-449c-4b40-88a9-1d4cc80348c5"
   },
   "source": [
    "# Test Agent"
   ]
  },
  {
   "cell_type": "code",
   "execution_count": 8,
   "metadata": {
    "id": "4c4f445b-e3d4-4ff5-8b11-66ffb65b2a32"
   },
   "outputs": [],
   "source": [
    "# handle printouts\n",
    "def print_stream(stream):\n",
    "    for s in stream:\n",
    "        message = s[\"messages\"][-1]\n",
    "        if isinstance(message, tuple):\n",
    "            print(message)\n",
    "        else:\n",
    "            message.pretty_print()"
   ]
  },
  {
   "cell_type": "code",
   "execution_count": 9,
   "metadata": {
    "id": "e0833c6c-4895-4a0e-9319-6d06e5f4e3bc"
   },
   "outputs": [
    {
     "name": "stdout",
     "output_type": "stream",
     "text": [
      "================================\u001b[1m Human Message \u001b[0m=================================\n",
      "\n",
      "What is today's date?\n",
      "==================================\u001b[1m Ai Message \u001b[0m==================================\n",
      "Tool Calls:\n",
      "  get_todays_date (9LFXFzRPy)\n",
      " Call ID: 9LFXFzRPy\n",
      "  Args:\n",
      "=================================\u001b[1m Tool Message \u001b[0m=================================\n",
      "Name: get_todays_date\n",
      "\n",
      "2025-04-30\n",
      "==================================\u001b[1m Ai Message \u001b[0m==================================\n",
      "\n",
      " Today's date is 2025-04-30. Would you like to see NASA's Astronomy Picture of the Day for today?\n"
     ]
    }
   ],
   "source": [
    "# test1\n",
    "messages = [HumanMessage(content=\"What is today's date?\")]\n",
    "print_stream(graph.stream({\"messages\": messages}, stream_mode=\"values\"))"
   ]
  },
  {
   "cell_type": "code",
   "execution_count": 11,
   "metadata": {
    "id": "50dc5056-09ac-4d42-b183-7748b0f653e6"
   },
   "outputs": [
    {
     "name": "stdout",
     "output_type": "stream",
     "text": [
      "================================\u001b[1m Human Message \u001b[0m=================================\n",
      "\n",
      "What is NASA's Astronomy Picture of the Day for today?\n",
      "==================================\u001b[1m Ai Message \u001b[0m==================================\n",
      "Tool Calls:\n",
      "  get_todays_date (eZ92MiRFM)\n",
      " Call ID: eZ92MiRFM\n",
      "  Args:\n",
      "=================================\u001b[1m Tool Message \u001b[0m=================================\n",
      "Name: get_todays_date\n",
      "\n",
      "2025-04-30\n",
      "==================================\u001b[1m Ai Message \u001b[0m==================================\n",
      "Tool Calls:\n",
      "  get_astronomy_image (0oniEX7bC)\n",
      " Call ID: 0oniEX7bC\n",
      "  Args:\n",
      "    date_of_picture: 2025-04-30\n",
      "=================================\u001b[1m Tool Message \u001b[0m=================================\n",
      "Name: get_astronomy_image\n",
      "\n",
      "https://apod.nasa.gov/apod/image/2504/HappySkyMexico_Korona_960.jpg\n",
      "==================================\u001b[1m Ai Message \u001b[0m==================================\n",
      "\n",
      " Here is the Astronomy Picture of the Day for today:\n",
      "\n",
      "![Astronomy Picture of the Day](https://apod.nasa.gov/apod/image/2504/HappySkyMexico_Korona_960.jpg)\n"
     ]
    }
   ],
   "source": [
    "messages = [HumanMessage(content=\"What is NASA's Astronomy Picture of the Day for today?\")]\n",
    "print_stream(graph.stream({\"messages\": messages}, stream_mode=\"values\"))"
   ]
  },
  {
   "cell_type": "code",
   "execution_count": 12,
   "metadata": {
    "id": "7d9a5cac-7612-4056-88ea-6564d5d46830"
   },
   "outputs": [
    {
     "name": "stdout",
     "output_type": "stream",
     "text": [
      "================================\u001b[1m Human Message \u001b[0m=================================\n",
      "\n",
      "Show me NASA's Astronomy Picture using the date from 2 days ago.\n",
      "==================================\u001b[1m Ai Message \u001b[0m==================================\n",
      "Tool Calls:\n",
      "  get_todays_date (BkeNdF2vn)\n",
      " Call ID: BkeNdF2vn\n",
      "  Args:\n",
      "=================================\u001b[1m Tool Message \u001b[0m=================================\n",
      "Name: get_todays_date\n",
      "\n",
      "2025-04-30\n",
      "==================================\u001b[1m Ai Message \u001b[0m==================================\n",
      "Tool Calls:\n",
      "  get_astronomy_image (RYdV6hNKl)\n",
      " Call ID: RYdV6hNKl\n",
      "  Args:\n",
      "    date_of_picture: 2025-04-28\n",
      "=================================\u001b[1m Tool Message \u001b[0m=================================\n",
      "Name: get_astronomy_image\n",
      "\n",
      "https://apod.nasa.gov/apod/image/2504/Gum37Hoo_Bozon_960.jpg\n",
      "==================================\u001b[1m Ai Message \u001b[0m==================================\n",
      "\n",
      " Here is the NASA's Astronomy Picture of the Day from 2025-04-28:\n",
      "\n",
      "![Astronomy Picture of the Day](https://apod.nasa.gov/apod/image/2504/Gum37Hoo_Bozon_960.jpg)\n"
     ]
    }
   ],
   "source": [
    "messages = [HumanMessage(content=\"Show me NASA's Astronomy Picture using the date from 2 days ago.\")]\n",
    "print_stream(graph.stream({\"messages\": messages}, stream_mode=\"values\"))"
   ]
  }
 ],
 "metadata": {
  "kernelspec": {
   "display_name": "Python 3",
   "language": "python",
   "name": "python3"
  },
  "language_info": {
   "codemirror_mode": {
    "name": "ipython",
    "version": 3
   },
   "file_extension": ".py",
   "mimetype": "text/x-python",
   "name": "python",
   "nbconvert_exporter": "python",
   "pygments_lexer": "ipython3",
   "version": "3.12.10"
  }
 },
 "nbformat": 4,
 "nbformat_minor": 4
}
